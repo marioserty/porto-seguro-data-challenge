{
 "cells": [
  {
   "cell_type": "code",
   "execution_count": 20,
   "metadata": {},
   "outputs": [],
   "source": [
    "import pandas as pd\n",
    "import numpy as np\n",
    "from sklearn.metrics import roc_auc_score, f1_score, precision_score, recall_score\n",
    "from glob import glob"
   ]
  },
  {
   "cell_type": "markdown",
   "metadata": {},
   "source": [
    "# Read preds"
   ]
  },
  {
   "cell_type": "markdown",
   "metadata": {},
   "source": [
    "## Train"
   ]
  },
  {
   "cell_type": "code",
   "execution_count": 21,
   "metadata": {},
   "outputs": [],
   "source": [
    "TARGET = 'y'\n",
    "y = pd.read_csv('../data/train.csv')['y']"
   ]
  },
  {
   "cell_type": "code",
   "execution_count": 22,
   "metadata": {},
   "outputs": [
    {
     "data": {
      "text/html": [
       "<div>\n",
       "<style scoped>\n",
       "    .dataframe tbody tr th:only-of-type {\n",
       "        vertical-align: middle;\n",
       "    }\n",
       "\n",
       "    .dataframe tbody tr th {\n",
       "        vertical-align: top;\n",
       "    }\n",
       "\n",
       "    .dataframe thead th {\n",
       "        text-align: right;\n",
       "    }\n",
       "</style>\n",
       "<table border=\"1\" class=\"dataframe\">\n",
       "  <thead>\n",
       "    <tr style=\"text-align: right;\">\n",
       "      <th></th>\n",
       "      <th>nn-v1</th>\n",
       "      <th>nn-v1_p</th>\n",
       "      <th>lgbm-v3</th>\n",
       "      <th>lgbm-v3_p</th>\n",
       "      <th>lgbm-v2</th>\n",
       "      <th>lgbm-v2_p</th>\n",
       "      <th>lgbm-v5</th>\n",
       "      <th>lgbm-v5_p</th>\n",
       "      <th>magic-v1</th>\n",
       "      <th>magic-v1_p</th>\n",
       "      <th>nn-aug-v1</th>\n",
       "      <th>nn-aug-v1_p</th>\n",
       "      <th>lgbm-v1</th>\n",
       "      <th>lgbm-v1_p</th>\n",
       "      <th>preds</th>\n",
       "      <th>preds_p</th>\n",
       "    </tr>\n",
       "  </thead>\n",
       "  <tbody>\n",
       "    <tr>\n",
       "      <th>0</th>\n",
       "      <td>0.999746</td>\n",
       "      <td>1</td>\n",
       "      <td>0.970255</td>\n",
       "      <td>1</td>\n",
       "      <td>0.967068</td>\n",
       "      <td>1</td>\n",
       "      <td>0.970255</td>\n",
       "      <td>1</td>\n",
       "      <td>0.754668</td>\n",
       "      <td>1</td>\n",
       "      <td>0.935343</td>\n",
       "      <td>1</td>\n",
       "      <td>0.898213</td>\n",
       "      <td>1</td>\n",
       "      <td>0.958938</td>\n",
       "      <td>1</td>\n",
       "    </tr>\n",
       "    <tr>\n",
       "      <th>1</th>\n",
       "      <td>0.017679</td>\n",
       "      <td>0</td>\n",
       "      <td>0.330973</td>\n",
       "      <td>0</td>\n",
       "      <td>0.461947</td>\n",
       "      <td>0</td>\n",
       "      <td>0.305133</td>\n",
       "      <td>0</td>\n",
       "      <td>0.080802</td>\n",
       "      <td>0</td>\n",
       "      <td>0.016357</td>\n",
       "      <td>0</td>\n",
       "      <td>0.070971</td>\n",
       "      <td>0</td>\n",
       "      <td>0.211756</td>\n",
       "      <td>0</td>\n",
       "    </tr>\n",
       "    <tr>\n",
       "      <th>2</th>\n",
       "      <td>0.297728</td>\n",
       "      <td>1</td>\n",
       "      <td>0.707507</td>\n",
       "      <td>0</td>\n",
       "      <td>0.762748</td>\n",
       "      <td>0</td>\n",
       "      <td>0.764164</td>\n",
       "      <td>0</td>\n",
       "      <td>0.020948</td>\n",
       "      <td>0</td>\n",
       "      <td>0.261597</td>\n",
       "      <td>0</td>\n",
       "      <td>0.238242</td>\n",
       "      <td>0</td>\n",
       "      <td>0.823717</td>\n",
       "      <td>0</td>\n",
       "    </tr>\n",
       "    <tr>\n",
       "      <th>3</th>\n",
       "      <td>0.023954</td>\n",
       "      <td>0</td>\n",
       "      <td>0.500531</td>\n",
       "      <td>0</td>\n",
       "      <td>0.624779</td>\n",
       "      <td>0</td>\n",
       "      <td>0.516814</td>\n",
       "      <td>0</td>\n",
       "      <td>0.059005</td>\n",
       "      <td>0</td>\n",
       "      <td>0.098270</td>\n",
       "      <td>0</td>\n",
       "      <td>0.128486</td>\n",
       "      <td>0</td>\n",
       "      <td>0.583363</td>\n",
       "      <td>0</td>\n",
       "    </tr>\n",
       "    <tr>\n",
       "      <th>4</th>\n",
       "      <td>0.997373</td>\n",
       "      <td>1</td>\n",
       "      <td>0.964248</td>\n",
       "      <td>1</td>\n",
       "      <td>0.976637</td>\n",
       "      <td>1</td>\n",
       "      <td>0.968496</td>\n",
       "      <td>1</td>\n",
       "      <td>0.042712</td>\n",
       "      <td>0</td>\n",
       "      <td>0.964648</td>\n",
       "      <td>1</td>\n",
       "      <td>0.935811</td>\n",
       "      <td>1</td>\n",
       "      <td>0.991504</td>\n",
       "      <td>1</td>\n",
       "    </tr>\n",
       "  </tbody>\n",
       "</table>\n",
       "</div>"
      ],
      "text/plain": [
       "      nn-v1  nn-v1_p   lgbm-v3  lgbm-v3_p   lgbm-v2  lgbm-v2_p   lgbm-v5  \\\n",
       "0  0.999746        1  0.970255          1  0.967068          1  0.970255   \n",
       "1  0.017679        0  0.330973          0  0.461947          0  0.305133   \n",
       "2  0.297728        1  0.707507          0  0.762748          0  0.764164   \n",
       "3  0.023954        0  0.500531          0  0.624779          0  0.516814   \n",
       "4  0.997373        1  0.964248          1  0.976637          1  0.968496   \n",
       "\n",
       "   lgbm-v5_p  magic-v1  magic-v1_p  nn-aug-v1  nn-aug-v1_p   lgbm-v1  \\\n",
       "0          1  0.754668           1   0.935343            1  0.898213   \n",
       "1          0  0.080802           0   0.016357            0  0.070971   \n",
       "2          0  0.020948           0   0.261597            0  0.238242   \n",
       "3          0  0.059005           0   0.098270            0  0.128486   \n",
       "4          1  0.042712           0   0.964648            1  0.935811   \n",
       "\n",
       "   lgbm-v1_p     preds  preds_p  \n",
       "0          1  0.958938        1  \n",
       "1          0  0.211756        0  \n",
       "2          0  0.823717        0  \n",
       "3          0  0.583363        0  \n",
       "4          1  0.991504        1  "
      ]
     },
     "execution_count": 22,
     "metadata": {},
     "output_type": "execute_result"
    }
   ],
   "source": [
    "df_train_preds = pd.DataFrame()\n",
    "\n",
    "for f in glob(\"../output/mario/train*.csv\") + glob(\"../output/hugo/train*.csv\"):\n",
    "    prefix = f.split(\"_\")[-1]\n",
    "    prefix = prefix.replace(\".csv\", \"\")    \n",
    "    df_train_preds[f\"{prefix}\"] = pd.read_csv(f)['y']\n",
    "    df_train_preds[f\"{prefix}_p\"] = pd.read_csv(f)['predicted']\n",
    "df_train_preds.head()"
   ]
  },
  {
   "cell_type": "code",
   "execution_count": 23,
   "metadata": {},
   "outputs": [],
   "source": [
    "df_train_preds = df_train_preds[[col for col in df_train_preds.columns if 'nn-v1' not in col]]\n",
    "df_train_preds = df_train_preds[[col for col in df_train_preds.columns if 'preds' not in col]]"
   ]
  },
  {
   "cell_type": "code",
   "execution_count": 24,
   "metadata": {},
   "outputs": [
    {
     "data": {
      "text/plain": [
       "Index(['lgbm-v3', 'lgbm-v3_p', 'lgbm-v2', 'lgbm-v2_p', 'lgbm-v5', 'lgbm-v5_p',\n",
       "       'magic-v1', 'magic-v1_p', 'nn-aug-v1', 'nn-aug-v1_p', 'lgbm-v1',\n",
       "       'lgbm-v1_p'],\n",
       "      dtype='object')"
      ]
     },
     "execution_count": 24,
     "metadata": {},
     "output_type": "execute_result"
    }
   ],
   "source": [
    "df_train_preds.columns"
   ]
  },
  {
   "cell_type": "markdown",
   "metadata": {},
   "source": [
    "## Test"
   ]
  },
  {
   "cell_type": "code",
   "execution_count": 25,
   "metadata": {},
   "outputs": [
    {
     "data": {
      "text/html": [
       "<div>\n",
       "<style scoped>\n",
       "    .dataframe tbody tr th:only-of-type {\n",
       "        vertical-align: middle;\n",
       "    }\n",
       "\n",
       "    .dataframe tbody tr th {\n",
       "        vertical-align: top;\n",
       "    }\n",
       "\n",
       "    .dataframe thead th {\n",
       "        text-align: right;\n",
       "    }\n",
       "</style>\n",
       "<table border=\"1\" class=\"dataframe\">\n",
       "  <thead>\n",
       "    <tr style=\"text-align: right;\">\n",
       "      <th></th>\n",
       "      <th>nn-v1</th>\n",
       "      <th>nn-v1_p</th>\n",
       "      <th>magic-v1</th>\n",
       "      <th>magic-v1_p</th>\n",
       "      <th>lgbm-v5</th>\n",
       "      <th>lgbm-v5_p</th>\n",
       "      <th>lgbm-v3</th>\n",
       "      <th>lgbm-v3_p</th>\n",
       "      <th>lgbm-v2</th>\n",
       "      <th>lgbm-v2_p</th>\n",
       "      <th>nn-aug-v1</th>\n",
       "      <th>nn-aug-v1_p</th>\n",
       "      <th>lgbm-v1</th>\n",
       "      <th>lgbm-v1_p</th>\n",
       "      <th>preds</th>\n",
       "      <th>preds_p</th>\n",
       "    </tr>\n",
       "  </thead>\n",
       "  <tbody>\n",
       "    <tr>\n",
       "      <th>0</th>\n",
       "      <td>0.993534</td>\n",
       "      <td>1</td>\n",
       "      <td>0.858467</td>\n",
       "      <td>1</td>\n",
       "      <td>0.961611</td>\n",
       "      <td>1</td>\n",
       "      <td>0.974565</td>\n",
       "      <td>1</td>\n",
       "      <td>0.972648</td>\n",
       "      <td>1</td>\n",
       "      <td>0.760760</td>\n",
       "      <td>1</td>\n",
       "      <td>0.908583</td>\n",
       "      <td>1</td>\n",
       "      <td>0.970127</td>\n",
       "      <td>1</td>\n",
       "    </tr>\n",
       "    <tr>\n",
       "      <th>1</th>\n",
       "      <td>0.393391</td>\n",
       "      <td>1</td>\n",
       "      <td>0.397818</td>\n",
       "      <td>1</td>\n",
       "      <td>0.868451</td>\n",
       "      <td>1</td>\n",
       "      <td>0.898183</td>\n",
       "      <td>1</td>\n",
       "      <td>0.888628</td>\n",
       "      <td>1</td>\n",
       "      <td>0.637950</td>\n",
       "      <td>1</td>\n",
       "      <td>0.620028</td>\n",
       "      <td>1</td>\n",
       "      <td>0.901128</td>\n",
       "      <td>1</td>\n",
       "    </tr>\n",
       "    <tr>\n",
       "      <th>2</th>\n",
       "      <td>0.132986</td>\n",
       "      <td>0</td>\n",
       "      <td>0.101617</td>\n",
       "      <td>0</td>\n",
       "      <td>0.727026</td>\n",
       "      <td>0</td>\n",
       "      <td>0.756021</td>\n",
       "      <td>0</td>\n",
       "      <td>0.767021</td>\n",
       "      <td>0</td>\n",
       "      <td>0.313109</td>\n",
       "      <td>1</td>\n",
       "      <td>0.262384</td>\n",
       "      <td>0</td>\n",
       "      <td>0.756796</td>\n",
       "      <td>0</td>\n",
       "    </tr>\n",
       "    <tr>\n",
       "      <th>3</th>\n",
       "      <td>0.038953</td>\n",
       "      <td>0</td>\n",
       "      <td>0.531408</td>\n",
       "      <td>1</td>\n",
       "      <td>0.821234</td>\n",
       "      <td>1</td>\n",
       "      <td>0.795421</td>\n",
       "      <td>0</td>\n",
       "      <td>0.801718</td>\n",
       "      <td>1</td>\n",
       "      <td>0.545096</td>\n",
       "      <td>1</td>\n",
       "      <td>0.339390</td>\n",
       "      <td>1</td>\n",
       "      <td>0.827664</td>\n",
       "      <td>1</td>\n",
       "    </tr>\n",
       "    <tr>\n",
       "      <th>4</th>\n",
       "      <td>0.609065</td>\n",
       "      <td>1</td>\n",
       "      <td>0.375882</td>\n",
       "      <td>1</td>\n",
       "      <td>0.802153</td>\n",
       "      <td>1</td>\n",
       "      <td>0.816872</td>\n",
       "      <td>1</td>\n",
       "      <td>0.812227</td>\n",
       "      <td>1</td>\n",
       "      <td>0.561998</td>\n",
       "      <td>1</td>\n",
       "      <td>0.379667</td>\n",
       "      <td>1</td>\n",
       "      <td>0.775660</td>\n",
       "      <td>0</td>\n",
       "    </tr>\n",
       "  </tbody>\n",
       "</table>\n",
       "</div>"
      ],
      "text/plain": [
       "      nn-v1  nn-v1_p  magic-v1  magic-v1_p   lgbm-v5  lgbm-v5_p   lgbm-v3  \\\n",
       "0  0.993534        1  0.858467           1  0.961611          1  0.974565   \n",
       "1  0.393391        1  0.397818           1  0.868451          1  0.898183   \n",
       "2  0.132986        0  0.101617           0  0.727026          0  0.756021   \n",
       "3  0.038953        0  0.531408           1  0.821234          1  0.795421   \n",
       "4  0.609065        1  0.375882           1  0.802153          1  0.816872   \n",
       "\n",
       "   lgbm-v3_p   lgbm-v2  lgbm-v2_p  nn-aug-v1  nn-aug-v1_p   lgbm-v1  \\\n",
       "0          1  0.972648          1   0.760760            1  0.908583   \n",
       "1          1  0.888628          1   0.637950            1  0.620028   \n",
       "2          0  0.767021          0   0.313109            1  0.262384   \n",
       "3          0  0.801718          1   0.545096            1  0.339390   \n",
       "4          1  0.812227          1   0.561998            1  0.379667   \n",
       "\n",
       "   lgbm-v1_p     preds  preds_p  \n",
       "0          1  0.970127        1  \n",
       "1          1  0.901128        1  \n",
       "2          0  0.756796        0  \n",
       "3          1  0.827664        1  \n",
       "4          1  0.775660        0  "
      ]
     },
     "execution_count": 25,
     "metadata": {},
     "output_type": "execute_result"
    }
   ],
   "source": [
    "df_test_preds = pd.DataFrame()\n",
    "\n",
    "for f in glob(\"../output/mario/test*.csv\") + glob(\"../output/hugo/test*.csv\"):\n",
    "    prefix = f.split(\"_\")[-1]\n",
    "    prefix = prefix.replace(\".csv\", \"\")    \n",
    "    df_test_preds[f\"{prefix}\"] = pd.read_csv(f)['y']\n",
    "    df_test_preds[f\"{prefix}_p\"] = pd.read_csv(f)['predicted']\n",
    "df_test_preds.head()"
   ]
  },
  {
   "cell_type": "markdown",
   "metadata": {},
   "source": [
    "# Testing Stacking"
   ]
  },
  {
   "cell_type": "code",
   "execution_count": 26,
   "metadata": {},
   "outputs": [
    {
     "data": {
      "text/html": [
       "<div>\n",
       "<style scoped>\n",
       "    .dataframe tbody tr th:only-of-type {\n",
       "        vertical-align: middle;\n",
       "    }\n",
       "\n",
       "    .dataframe tbody tr th {\n",
       "        vertical-align: top;\n",
       "    }\n",
       "\n",
       "    .dataframe thead th {\n",
       "        text-align: right;\n",
       "    }\n",
       "</style>\n",
       "<table border=\"1\" class=\"dataframe\">\n",
       "  <thead>\n",
       "    <tr style=\"text-align: right;\">\n",
       "      <th></th>\n",
       "      <th>id</th>\n",
       "      <th>predicted</th>\n",
       "    </tr>\n",
       "  </thead>\n",
       "  <tbody>\n",
       "    <tr>\n",
       "      <th>0</th>\n",
       "      <td>0</td>\n",
       "      <td>1</td>\n",
       "    </tr>\n",
       "    <tr>\n",
       "      <th>1</th>\n",
       "      <td>2</td>\n",
       "      <td>1</td>\n",
       "    </tr>\n",
       "    <tr>\n",
       "      <th>2</th>\n",
       "      <td>4</td>\n",
       "      <td>1</td>\n",
       "    </tr>\n",
       "    <tr>\n",
       "      <th>3</th>\n",
       "      <td>7</td>\n",
       "      <td>0</td>\n",
       "    </tr>\n",
       "    <tr>\n",
       "      <th>4</th>\n",
       "      <td>15</td>\n",
       "      <td>1</td>\n",
       "    </tr>\n",
       "  </tbody>\n",
       "</table>\n",
       "</div>"
      ],
      "text/plain": [
       "   id  predicted\n",
       "0   0          1\n",
       "1   2          1\n",
       "2   4          1\n",
       "3   7          0\n",
       "4  15          1"
      ]
     },
     "execution_count": 26,
     "metadata": {},
     "output_type": "execute_result"
    }
   ],
   "source": [
    "df_sub = pd.read_csv(\"../data/submission_sample.csv\")\n",
    "df_sub.head()"
   ]
  },
  {
   "cell_type": "code",
   "execution_count": 27,
   "metadata": {},
   "outputs": [
    {
     "name": "stdout",
     "output_type": "stream",
     "text": [
      "Fold 1, AUC: 0.8969700859688023\n",
      "Fold 2, AUC: 0.8925763410744155\n",
      "Fold 3, AUC: 0.9035461158439335\n",
      "Fold 4, AUC: 0.8947738134155263\n",
      "Fold 5, AUC: 0.8886062205202446\n",
      "CV AUC: 0.895294796914223\n"
     ]
    }
   ],
   "source": [
    "import lightgbm as lgb\n",
    "from sklearn.model_selection import StratifiedKFold\n",
    "import gc\n",
    "\n",
    "SEED = 1996\n",
    "FOLDS = 5\n",
    "TARGET = 'y'\n",
    "\n",
    "df_train = df_train_preds.copy()\n",
    "df_train[TARGET] = y\n",
    "\n",
    "features_to_drop = [TARGET]\n",
    "features = [ft for ft in df_train.columns if ft not in features_to_drop]\n",
    "\n",
    "importances = df_train[features].columns.to_frame()\n",
    "train_preds = df_train[TARGET].to_frame()\n",
    "train_preds[\"preds\"] = 0\n",
    "\n",
    "df_sub[\"predicted\"] = 0\n",
    "df_sub[TARGET] = 0\n",
    "\n",
    "\n",
    "kfold = StratifiedKFold(n_splits=FOLDS, shuffle=True, random_state=SEED)\n",
    "for fold, (train_index, valid_index) in enumerate(kfold.split(df_train, df_train[TARGET])):\n",
    "    x_train, x_valid = df_train.loc[train_index][features], df_train.loc[valid_index][features]\n",
    "    y_train, y_valid = df_train.loc[train_index][TARGET], df_train.loc[valid_index][TARGET]\n",
    "    \n",
    "    clf = lgb.LGBMClassifier(\n",
    "        learning_rate=0.01,\n",
    "        n_estimators=5000,\n",
    "        random_state=SEED,\n",
    "        boosting=\"gbdt\",\n",
    "        objective=\"binary\",\n",
    "        max_depth=2\n",
    "    )\n",
    "    \n",
    "    clf.fit(\n",
    "        x_train,\n",
    "        y_train,\n",
    "        eval_set=[(x_valid, y_valid)],\n",
    "        eval_metric=\"auc\",\n",
    "        early_stopping_rounds=1000,\n",
    "        verbose=0\n",
    "    )\n",
    "    \n",
    "    y_pred = clf.predict_proba(x_valid, num_iteration=clf.best_iteration_)[:, 1]\n",
    "    y_pred = (pd.Series(y_pred).rank()/len(x_valid)).values\n",
    "    train_preds.loc[valid_index, \"preds\"] = y_pred\n",
    "    \n",
    "    test_preds = clf.predict_proba(df_test_preds[features], num_iteration=clf.best_iteration_)[:, 1]\n",
    "    test_preds = (pd.Series(test_preds).rank()/len(test_preds)).values\n",
    "    df_sub[TARGET] += test_preds/FOLDS\n",
    "    \n",
    "    importances[fold] = clf.feature_importances_    \n",
    "    \n",
    "    print(f\"Fold {fold+1}, AUC: {roc_auc_score(y_valid, y_pred)}\")\n",
    "    gc.collect()\n",
    "\n",
    "print(f\"CV AUC: {roc_auc_score(train_preds[TARGET], train_preds['preds'])}\")\n",
    "# Com preds e cliped\n",
    "# Fold 1, AUC: 0.8964795580970164\n",
    "# Fold 2, AUC: 0.893466760026452\n",
    "# Fold 3, AUC: 0.9039358929474461\n",
    "# Fold 4, AUC: 0.8951318513675494\n",
    "# Fold 5, AUC: 0.8882209405501331\n",
    "# CV AUC: 0.8955418396074458"
   ]
  },
  {
   "cell_type": "code",
   "execution_count": 28,
   "metadata": {},
   "outputs": [
    {
     "data": {
      "text/plain": [
       "lgbm-v2_p        0.0\n",
       "magic-v1_p       0.0\n",
       "lgbm-v1_p        0.0\n",
       "nn-aug-v1_p      4.6\n",
       "lgbm-v3_p        5.4\n",
       "lgbm-v5_p        7.0\n",
       "magic-v1        61.4\n",
       "lgbm-v1        105.8\n",
       "nn-aug-v1      143.0\n",
       "lgbm-v2        144.6\n",
       "lgbm-v3        391.0\n",
       "lgbm-v5        435.0\n",
       "dtype: float64"
      ]
     },
     "execution_count": 28,
     "metadata": {},
     "output_type": "execute_result"
    }
   ],
   "source": [
    "importances.mean(axis=1).sort_values()"
   ]
  },
  {
   "cell_type": "markdown",
   "metadata": {},
   "source": [
    "# Opt F1"
   ]
  },
  {
   "cell_type": "code",
   "execution_count": 29,
   "metadata": {},
   "outputs": [
    {
     "name": "stderr",
     "output_type": "stream",
     "text": [
      " 99%|█████████▉| 992/1000 [00:29<00:00, 33.95it/s]\n"
     ]
    },
    {
     "data": {
      "image/png": "[encoded data removed]",
      "text/plain": [
       "<Figure size 720x360 with 1 Axes>"
      ]
     },
     "metadata": {},
     "output_type": "display_data"
    },
    {
     "name": "stdout",
     "output_type": "stream",
     "text": [
      "max_f1 [0.802]: 0.6866147308781869\n"
     ]
    }
   ],
   "source": [
    "from tqdm import tqdm\n",
    "import matplotlib.pyplot as plt\n",
    "\n",
    "f1, precision, recall = [], [], []\n",
    "max_f1_threshold = -1\n",
    "max_f1 = -1\n",
    "for i in tqdm(range(1000)):\n",
    "    _i = i / 1000.0\n",
    "    \n",
    "    y_pred = np.where(train_preds[\"preds\"] > _i, 1, 0)\n",
    "    \n",
    "    _precision = precision_score(train_preds[TARGET], y_pred)\n",
    "    if _precision == 1.0:\n",
    "        break\n",
    "    _f1 = f1_score(train_preds[TARGET], y_pred)\n",
    "    if _f1 > max_f1:\n",
    "        max_f1 = _f1\n",
    "        max_f1_threshold = _i\n",
    "    \n",
    "    f1.append(_f1)\n",
    "    precision.append(_precision)\n",
    "    recall.append(recall_score(train_preds[TARGET], y_pred))\n",
    "    \n",
    "plt.figure(figsize=[10, 5])\n",
    "plt.plot(range(len(f1)), f1, label=\"f1\")\n",
    "plt.plot(range(len(f1)), precision, label=\"precision\")\n",
    "plt.plot(range(len(f1)), recall, label=\"recall\")\n",
    "plt.legend()\n",
    "plt.tight_layout()\n",
    "plt.show()\n",
    "\n",
    "print(f\"max_f1 [{max_f1_threshold}]: {max_f1}\")\n",
    "# max_f1 [0.776]: 0.6822942643391521 0.6857142857142858"
   ]
  },
  {
   "cell_type": "code",
   "execution_count": 30,
   "metadata": {},
   "outputs": [
    {
     "data": {
      "text/plain": [
       "<matplotlib.axes._subplots.AxesSubplot at 0x7ff031f10b38>"
      ]
     },
     "execution_count": 30,
     "metadata": {},
     "output_type": "execute_result"
    },
    {
     "data": {
      "image/png": "[encoded data removed]",
      "text/plain": [
       "<Figure size 1440x1584 with 1 Axes>"
      ]
     },
     "metadata": {},
     "output_type": "display_data"
    }
   ],
   "source": [
    "lgb.plot_tree(clf, figsize=(20, 22), tree_index=100)"
   ]
  },
  {
   "cell_type": "code",
   "execution_count": 31,
   "metadata": {},
   "outputs": [
    {
     "name": "stdout",
     "output_type": "stream",
     "text": [
      "VERSION ::: stk-v3\n"
     ]
    }
   ],
   "source": [
    "VERSION = 'stk-v3'\n",
    "print(f\"VERSION ::: {VERSION}\")"
   ]
  },
  {
   "cell_type": "code",
   "execution_count": 32,
   "metadata": {},
   "outputs": [
    {
     "data": {
      "text/plain": [
       "<matplotlib.axes._subplots.AxesSubplot at 0x7ff0b0f435c0>"
      ]
     },
     "execution_count": 32,
     "metadata": {},
     "output_type": "execute_result"
    },
    {
     "data": {
      "image/png": "[encoded data removed]",
      "text/plain": [
       "<Figure size 432x288 with 1 Axes>"
      ]
     },
     "metadata": {},
     "output_type": "display_data"
    }
   ],
   "source": [
    "df_sub[TARGET].hist()"
   ]
  },
  {
   "cell_type": "code",
   "execution_count": 33,
   "metadata": {},
   "outputs": [
    {
     "data": {
      "text/html": [
       "<div>\n",
       "<style scoped>\n",
       "    .dataframe tbody tr th:only-of-type {\n",
       "        vertical-align: middle;\n",
       "    }\n",
       "\n",
       "    .dataframe tbody tr th {\n",
       "        vertical-align: top;\n",
       "    }\n",
       "\n",
       "    .dataframe thead th {\n",
       "        text-align: right;\n",
       "    }\n",
       "</style>\n",
       "<table border=\"1\" class=\"dataframe\">\n",
       "  <thead>\n",
       "    <tr style=\"text-align: right;\">\n",
       "      <th></th>\n",
       "      <th>id</th>\n",
       "      <th>predicted</th>\n",
       "      <th>y</th>\n",
       "    </tr>\n",
       "  </thead>\n",
       "  <tbody>\n",
       "    <tr>\n",
       "      <th>0</th>\n",
       "      <td>0</td>\n",
       "      <td>1</td>\n",
       "      <td>0.969051</td>\n",
       "    </tr>\n",
       "    <tr>\n",
       "      <th>1</th>\n",
       "      <td>2</td>\n",
       "      <td>1</td>\n",
       "      <td>0.876217</td>\n",
       "    </tr>\n",
       "    <tr>\n",
       "      <th>2</th>\n",
       "      <td>4</td>\n",
       "      <td>0</td>\n",
       "      <td>0.757910</td>\n",
       "    </tr>\n",
       "    <tr>\n",
       "      <th>3</th>\n",
       "      <td>7</td>\n",
       "      <td>1</td>\n",
       "      <td>0.802960</td>\n",
       "    </tr>\n",
       "    <tr>\n",
       "      <th>4</th>\n",
       "      <td>15</td>\n",
       "      <td>1</td>\n",
       "      <td>0.821276</td>\n",
       "    </tr>\n",
       "  </tbody>\n",
       "</table>\n",
       "</div>"
      ],
      "text/plain": [
       "   id  predicted         y\n",
       "0   0          1  0.969051\n",
       "1   2          1  0.876217\n",
       "2   4          0  0.757910\n",
       "3   7          1  0.802960\n",
       "4  15          1  0.821276"
      ]
     },
     "execution_count": 33,
     "metadata": {},
     "output_type": "execute_result"
    }
   ],
   "source": [
    "df_sub[\"predicted\"] = np.where(df_sub[TARGET] > max_f1_threshold, 1, 0)\n",
    "df_sub.head()"
   ]
  },
  {
   "cell_type": "code",
   "execution_count": 34,
   "metadata": {},
   "outputs": [
    {
     "data": {
      "text/html": [
       "<div>\n",
       "<style scoped>\n",
       "    .dataframe tbody tr th:only-of-type {\n",
       "        vertical-align: middle;\n",
       "    }\n",
       "\n",
       "    .dataframe tbody tr th {\n",
       "        vertical-align: top;\n",
       "    }\n",
       "\n",
       "    .dataframe thead th {\n",
       "        text-align: right;\n",
       "    }\n",
       "</style>\n",
       "<table border=\"1\" class=\"dataframe\">\n",
       "  <thead>\n",
       "    <tr style=\"text-align: right;\">\n",
       "      <th></th>\n",
       "      <th>predicted</th>\n",
       "      <th>y</th>\n",
       "    </tr>\n",
       "  </thead>\n",
       "  <tbody>\n",
       "    <tr>\n",
       "      <th>count</th>\n",
       "      <td>21183.000000</td>\n",
       "      <td>21183.000000</td>\n",
       "    </tr>\n",
       "    <tr>\n",
       "      <th>mean</th>\n",
       "      <td>0.198225</td>\n",
       "      <td>0.500024</td>\n",
       "    </tr>\n",
       "    <tr>\n",
       "      <th>std</th>\n",
       "      <td>0.398672</td>\n",
       "      <td>0.287809</td>\n",
       "    </tr>\n",
       "    <tr>\n",
       "      <th>min</th>\n",
       "      <td>0.000000</td>\n",
       "      <td>0.017698</td>\n",
       "    </tr>\n",
       "    <tr>\n",
       "      <th>25%</th>\n",
       "      <td>0.000000</td>\n",
       "      <td>0.253708</td>\n",
       "    </tr>\n",
       "    <tr>\n",
       "      <th>50%</th>\n",
       "      <td>0.000000</td>\n",
       "      <td>0.497961</td>\n",
       "    </tr>\n",
       "    <tr>\n",
       "      <th>75%</th>\n",
       "      <td>0.000000</td>\n",
       "      <td>0.749452</td>\n",
       "    </tr>\n",
       "    <tr>\n",
       "      <th>max</th>\n",
       "      <td>1.000000</td>\n",
       "      <td>0.994736</td>\n",
       "    </tr>\n",
       "  </tbody>\n",
       "</table>\n",
       "</div>"
      ],
      "text/plain": [
       "          predicted             y\n",
       "count  21183.000000  21183.000000\n",
       "mean       0.198225      0.500024\n",
       "std        0.398672      0.287809\n",
       "min        0.000000      0.017698\n",
       "25%        0.000000      0.253708\n",
       "50%        0.000000      0.497961\n",
       "75%        0.000000      0.749452\n",
       "max        1.000000      0.994736"
      ]
     },
     "execution_count": 34,
     "metadata": {},
     "output_type": "execute_result"
    }
   ],
   "source": [
    "df_sub[[\"predicted\", \"y\"]].describe()"
   ]
  },
  {
   "cell_type": "code",
   "execution_count": 35,
   "metadata": {},
   "outputs": [
    {
     "data": {
      "text/html": [
       "<div>\n",
       "<style scoped>\n",
       "    .dataframe tbody tr th:only-of-type {\n",
       "        vertical-align: middle;\n",
       "    }\n",
       "\n",
       "    .dataframe tbody tr th {\n",
       "        vertical-align: top;\n",
       "    }\n",
       "\n",
       "    .dataframe thead th {\n",
       "        text-align: right;\n",
       "    }\n",
       "</style>\n",
       "<table border=\"1\" class=\"dataframe\">\n",
       "  <thead>\n",
       "    <tr style=\"text-align: right;\">\n",
       "      <th></th>\n",
       "      <th>predicted</th>\n",
       "      <th>y</th>\n",
       "    </tr>\n",
       "  </thead>\n",
       "  <tbody>\n",
       "    <tr>\n",
       "      <th>0</th>\n",
       "      <td>1</td>\n",
       "      <td>0.972025</td>\n",
       "    </tr>\n",
       "    <tr>\n",
       "      <th>1</th>\n",
       "      <td>0</td>\n",
       "      <td>0.349027</td>\n",
       "    </tr>\n",
       "    <tr>\n",
       "      <th>2</th>\n",
       "      <td>0</td>\n",
       "      <td>0.744157</td>\n",
       "    </tr>\n",
       "    <tr>\n",
       "      <th>3</th>\n",
       "      <td>0</td>\n",
       "      <td>0.481593</td>\n",
       "    </tr>\n",
       "    <tr>\n",
       "      <th>4</th>\n",
       "      <td>1</td>\n",
       "      <td>0.973628</td>\n",
       "    </tr>\n",
       "  </tbody>\n",
       "</table>\n",
       "</div>"
      ],
      "text/plain": [
       "   predicted         y\n",
       "0          1  0.972025\n",
       "1          0  0.349027\n",
       "2          0  0.744157\n",
       "3          0  0.481593\n",
       "4          1  0.973628"
      ]
     },
     "execution_count": 35,
     "metadata": {},
     "output_type": "execute_result"
    }
   ],
   "source": [
    "train_preds.columns = [\"predicted\", \"y\"]\n",
    "train_preds[\"predicted\"] = np.where(train_preds[\"y\"] > max_f1_threshold, 1, 0)\n",
    "train_preds.head()"
   ]
  },
  {
   "cell_type": "code",
   "execution_count": 36,
   "metadata": {},
   "outputs": [
    {
     "data": {
      "text/html": [
       "<div>\n",
       "<style scoped>\n",
       "    .dataframe tbody tr th:only-of-type {\n",
       "        vertical-align: middle;\n",
       "    }\n",
       "\n",
       "    .dataframe tbody tr th {\n",
       "        vertical-align: top;\n",
       "    }\n",
       "\n",
       "    .dataframe thead th {\n",
       "        text-align: right;\n",
       "    }\n",
       "</style>\n",
       "<table border=\"1\" class=\"dataframe\">\n",
       "  <thead>\n",
       "    <tr style=\"text-align: right;\">\n",
       "      <th></th>\n",
       "      <th>id</th>\n",
       "      <th>predicted</th>\n",
       "      <th>y</th>\n",
       "    </tr>\n",
       "  </thead>\n",
       "  <tbody>\n",
       "    <tr>\n",
       "      <th>0</th>\n",
       "      <td>1</td>\n",
       "      <td>1</td>\n",
       "      <td>0.972025</td>\n",
       "    </tr>\n",
       "    <tr>\n",
       "      <th>1</th>\n",
       "      <td>8</td>\n",
       "      <td>0</td>\n",
       "      <td>0.349027</td>\n",
       "    </tr>\n",
       "    <tr>\n",
       "      <th>2</th>\n",
       "      <td>30</td>\n",
       "      <td>0</td>\n",
       "      <td>0.744157</td>\n",
       "    </tr>\n",
       "    <tr>\n",
       "      <th>3</th>\n",
       "      <td>43</td>\n",
       "      <td>0</td>\n",
       "      <td>0.481593</td>\n",
       "    </tr>\n",
       "    <tr>\n",
       "      <th>4</th>\n",
       "      <td>46</td>\n",
       "      <td>1</td>\n",
       "      <td>0.973628</td>\n",
       "    </tr>\n",
       "  </tbody>\n",
       "</table>\n",
       "</div>"
      ],
      "text/plain": [
       "   id  predicted         y\n",
       "0   1          1  0.972025\n",
       "1   8          0  0.349027\n",
       "2  30          0  0.744157\n",
       "3  43          0  0.481593\n",
       "4  46          1  0.973628"
      ]
     },
     "execution_count": 36,
     "metadata": {},
     "output_type": "execute_result"
    }
   ],
   "source": [
    "train_preds[\"id\"] = pd.read_csv('../data/train.csv')['id']\n",
    "train_preds = train_preds[[\"id\", \"predicted\", \"y\"]]\n",
    "train_preds.head()"
   ]
  },
  {
   "cell_type": "code",
   "execution_count": 37,
   "metadata": {},
   "outputs": [],
   "source": [
    "# train_preds.to_csv(f\"../output/mario/train_preds_{VERSION}.csv\", index=False)\n",
    "# df_sub.to_csv(f\"../output/mario/test_preds_{VERSION}.csv\", index=False)\n",
    "df_sub.drop(\"y\", axis=1).to_csv(f\"../output/mario/sub_{VERSION}.csv\", index=False)"
   ]
  },
  {
   "cell_type": "markdown",
   "metadata": {},
   "source": [
    "# Confusion matrix"
   ]
  },
  {
   "cell_type": "code",
   "execution_count": 38,
   "metadata": {},
   "outputs": [
    {
     "data": {
      "text/html": [
       "<div>\n",
       "<style scoped>\n",
       "    .dataframe tbody tr th:only-of-type {\n",
       "        vertical-align: middle;\n",
       "    }\n",
       "\n",
       "    .dataframe tbody tr th {\n",
       "        vertical-align: top;\n",
       "    }\n",
       "\n",
       "    .dataframe thead th {\n",
       "        text-align: right;\n",
       "    }\n",
       "</style>\n",
       "<table border=\"1\" class=\"dataframe\">\n",
       "  <thead>\n",
       "    <tr style=\"text-align: right;\">\n",
       "      <th></th>\n",
       "      <th>0</th>\n",
       "      <th>1</th>\n",
       "    </tr>\n",
       "  </thead>\n",
       "  <tbody>\n",
       "    <tr>\n",
       "      <th>0</th>\n",
       "      <td>10414</td>\n",
       "      <td>859</td>\n",
       "    </tr>\n",
       "    <tr>\n",
       "      <th>1</th>\n",
       "      <td>911</td>\n",
       "      <td>1939</td>\n",
       "    </tr>\n",
       "  </tbody>\n",
       "</table>\n",
       "</div>"
      ],
      "text/plain": [
       "       0     1\n",
       "0  10414   859\n",
       "1    911  1939"
      ]
     },
     "execution_count": 38,
     "metadata": {},
     "output_type": "execute_result"
    }
   ],
   "source": [
    "from sklearn.metrics import confusion_matrix\n",
    "import seaborn as sns; sns.set()\n",
    "\n",
    "cm = confusion_matrix(y_true=df_train[TARGET], y_pred=np.where(train_preds[TARGET] > max_f1_threshold, 1, 0), labels=[0, 1])\n",
    "pd.DataFrame(cm)\n",
    "# ax= plt.subplot()\n",
    "# sns.heatmap(cm, annot=True, fmt=\"g\", ax=ax);  #annot=True to annotate cells, ftm=\"g\" to disable scientific notation\n",
    "\n",
    "# # labels, title and ticks\n",
    "# ax.set_xlabel(\"Predicted labels\");\n",
    "# ax.set_ylabel(\"True labels\"); \n",
    "# ax.set_title(\"Confusion Matrix\");"
   ]
  },
  {
   "cell_type": "code",
   "execution_count": null,
   "metadata": {},
   "outputs": [],
   "source": []
  }
 ],
 "metadata": {
  "hide_input": false,
  "kernelspec": {
   "display_name": "Python 3",
   "language": "python",
   "name": "python3"
  },
  "language_info": {
   "codemirror_mode": {
    "name": "ipython",
    "version": 3
   },
   "file_extension": ".py",
   "mimetype": "text/x-python",
   "name": "python",
   "nbconvert_exporter": "python",
   "pygments_lexer": "ipython3",
   "version": "3.6.9"
  },
  "toc": {
   "base_numbering": 1,
   "nav_menu": {},
   "number_sections": true,
   "sideBar": true,
   "skip_h1_title": false,
   "title_cell": "Table of Contents",
   "title_sidebar": "Contents",
   "toc_cell": false,
   "toc_position": {},
   "toc_section_display": true,
   "toc_window_display": true
  }
 },
 "nbformat": 4,
 "nbformat_minor": 2
}
