{
 "cells": [
  {
   "cell_type": "code",
   "execution_count": 51,
   "metadata": {},
   "outputs": [],
   "source": [
    "import pandas as pd\n",
    "import numpy as np\n",
    "from sklearn.metrics import roc_auc_score, f1_score, precision_score, recall_score\n",
    "from glob import glob"
   ]
  },
  {
   "cell_type": "code",
   "execution_count": 52,
   "metadata": {},
   "outputs": [],
   "source": [
    "TARGET = 'y'\n",
    "y = pd.read_csv('../data/train.csv')['y']"
   ]
  },
  {
   "cell_type": "code",
   "execution_count": 53,
   "metadata": {},
   "outputs": [
    {
     "data": {
      "text/html": [
       "<div>\n",
       "<style scoped>\n",
       "    .dataframe tbody tr th:only-of-type {\n",
       "        vertical-align: middle;\n",
       "    }\n",
       "\n",
       "    .dataframe tbody tr th {\n",
       "        vertical-align: top;\n",
       "    }\n",
       "\n",
       "    .dataframe thead th {\n",
       "        text-align: right;\n",
       "    }\n",
       "</style>\n",
       "<table border=\"1\" class=\"dataframe\">\n",
       "  <thead>\n",
       "    <tr style=\"text-align: right;\">\n",
       "      <th></th>\n",
       "      <th>nn-v1</th>\n",
       "      <th>nn-v1_p</th>\n",
       "      <th>lgbm-v3</th>\n",
       "      <th>lgbm-v3_p</th>\n",
       "      <th>lgbm-v2</th>\n",
       "      <th>lgbm-v2_p</th>\n",
       "      <th>lgbm-v5</th>\n",
       "      <th>lgbm-v5_p</th>\n",
       "      <th>magic-v1</th>\n",
       "      <th>magic-v1_p</th>\n",
       "      <th>nn-aug-v1</th>\n",
       "      <th>nn-aug-v1_p</th>\n",
       "      <th>lgbm-v1</th>\n",
       "      <th>lgbm-v1_p</th>\n",
       "      <th>preds</th>\n",
       "      <th>preds_p</th>\n",
       "    </tr>\n",
       "  </thead>\n",
       "  <tbody>\n",
       "    <tr>\n",
       "      <th>0</th>\n",
       "      <td>0.999746</td>\n",
       "      <td>1</td>\n",
       "      <td>0.970255</td>\n",
       "      <td>1</td>\n",
       "      <td>0.967068</td>\n",
       "      <td>1</td>\n",
       "      <td>0.970255</td>\n",
       "      <td>1</td>\n",
       "      <td>0.754668</td>\n",
       "      <td>1</td>\n",
       "      <td>0.935343</td>\n",
       "      <td>1</td>\n",
       "      <td>0.898213</td>\n",
       "      <td>1</td>\n",
       "      <td>0.958938</td>\n",
       "      <td>1</td>\n",
       "    </tr>\n",
       "    <tr>\n",
       "      <th>1</th>\n",
       "      <td>0.017679</td>\n",
       "      <td>0</td>\n",
       "      <td>0.330973</td>\n",
       "      <td>0</td>\n",
       "      <td>0.461947</td>\n",
       "      <td>0</td>\n",
       "      <td>0.305133</td>\n",
       "      <td>0</td>\n",
       "      <td>0.080802</td>\n",
       "      <td>0</td>\n",
       "      <td>0.016357</td>\n",
       "      <td>0</td>\n",
       "      <td>0.070971</td>\n",
       "      <td>0</td>\n",
       "      <td>0.211756</td>\n",
       "      <td>0</td>\n",
       "    </tr>\n",
       "    <tr>\n",
       "      <th>2</th>\n",
       "      <td>0.297728</td>\n",
       "      <td>1</td>\n",
       "      <td>0.707507</td>\n",
       "      <td>0</td>\n",
       "      <td>0.762748</td>\n",
       "      <td>0</td>\n",
       "      <td>0.764164</td>\n",
       "      <td>0</td>\n",
       "      <td>0.020948</td>\n",
       "      <td>0</td>\n",
       "      <td>0.261597</td>\n",
       "      <td>0</td>\n",
       "      <td>0.238242</td>\n",
       "      <td>0</td>\n",
       "      <td>0.823717</td>\n",
       "      <td>0</td>\n",
       "    </tr>\n",
       "    <tr>\n",
       "      <th>3</th>\n",
       "      <td>0.023954</td>\n",
       "      <td>0</td>\n",
       "      <td>0.500531</td>\n",
       "      <td>0</td>\n",
       "      <td>0.624779</td>\n",
       "      <td>0</td>\n",
       "      <td>0.516814</td>\n",
       "      <td>0</td>\n",
       "      <td>0.059005</td>\n",
       "      <td>0</td>\n",
       "      <td>0.098270</td>\n",
       "      <td>0</td>\n",
       "      <td>0.128486</td>\n",
       "      <td>0</td>\n",
       "      <td>0.583363</td>\n",
       "      <td>0</td>\n",
       "    </tr>\n",
       "    <tr>\n",
       "      <th>4</th>\n",
       "      <td>0.997373</td>\n",
       "      <td>1</td>\n",
       "      <td>0.964248</td>\n",
       "      <td>1</td>\n",
       "      <td>0.976637</td>\n",
       "      <td>1</td>\n",
       "      <td>0.968496</td>\n",
       "      <td>1</td>\n",
       "      <td>0.042712</td>\n",
       "      <td>0</td>\n",
       "      <td>0.964648</td>\n",
       "      <td>1</td>\n",
       "      <td>0.935811</td>\n",
       "      <td>1</td>\n",
       "      <td>0.991504</td>\n",
       "      <td>1</td>\n",
       "    </tr>\n",
       "  </tbody>\n",
       "</table>\n",
       "</div>"
      ],
      "text/plain": [
       "      nn-v1  nn-v1_p   lgbm-v3  lgbm-v3_p   lgbm-v2  lgbm-v2_p   lgbm-v5  \\\n",
       "0  0.999746        1  0.970255          1  0.967068          1  0.970255   \n",
       "1  0.017679        0  0.330973          0  0.461947          0  0.305133   \n",
       "2  0.297728        1  0.707507          0  0.762748          0  0.764164   \n",
       "3  0.023954        0  0.500531          0  0.624779          0  0.516814   \n",
       "4  0.997373        1  0.964248          1  0.976637          1  0.968496   \n",
       "\n",
       "   lgbm-v5_p  magic-v1  magic-v1_p  nn-aug-v1  nn-aug-v1_p   lgbm-v1  \\\n",
       "0          1  0.754668           1   0.935343            1  0.898213   \n",
       "1          0  0.080802           0   0.016357            0  0.070971   \n",
       "2          0  0.020948           0   0.261597            0  0.238242   \n",
       "3          0  0.059005           0   0.098270            0  0.128486   \n",
       "4          1  0.042712           0   0.964648            1  0.935811   \n",
       "\n",
       "   lgbm-v1_p     preds  preds_p  \n",
       "0          1  0.958938        1  \n",
       "1          0  0.211756        0  \n",
       "2          0  0.823717        0  \n",
       "3          0  0.583363        0  \n",
       "4          1  0.991504        1  "
      ]
     },
     "execution_count": 53,
     "metadata": {},
     "output_type": "execute_result"
    }
   ],
   "source": [
    "df_train_preds = pd.DataFrame()\n",
    "\n",
    "for f in glob(\"../output/mario/train*.csv\") + glob(\"../output/hugo/train*.csv\"):\n",
    "    prefix = f.split(\"_\")[-1]\n",
    "    prefix = prefix.replace(\".csv\", \"\")    \n",
    "    df_train_preds[f\"{prefix}\"] = pd.read_csv(f)['y']\n",
    "    df_train_preds[f\"{prefix}_p\"] = pd.read_csv(f)['predicted']\n",
    "df_train_preds.head()"
   ]
  },
  {
   "cell_type": "markdown",
   "metadata": {},
   "source": [
    "---"
   ]
  },
  {
   "cell_type": "code",
   "execution_count": 54,
   "metadata": {},
   "outputs": [
    {
     "data": {
      "text/html": [
       "<div>\n",
       "<style scoped>\n",
       "    .dataframe tbody tr th:only-of-type {\n",
       "        vertical-align: middle;\n",
       "    }\n",
       "\n",
       "    .dataframe tbody tr th {\n",
       "        vertical-align: top;\n",
       "    }\n",
       "\n",
       "    .dataframe thead th {\n",
       "        text-align: right;\n",
       "    }\n",
       "</style>\n",
       "<table border=\"1\" class=\"dataframe\">\n",
       "  <thead>\n",
       "    <tr style=\"text-align: right;\">\n",
       "      <th></th>\n",
       "      <th>lgbm-v3</th>\n",
       "      <th>lgbm-v3_p</th>\n",
       "      <th>lgbm-v5</th>\n",
       "      <th>lgbm-v5_p</th>\n",
       "    </tr>\n",
       "  </thead>\n",
       "  <tbody>\n",
       "    <tr>\n",
       "      <th>0</th>\n",
       "      <td>0.970255</td>\n",
       "      <td>1</td>\n",
       "      <td>0.970255</td>\n",
       "      <td>1</td>\n",
       "    </tr>\n",
       "    <tr>\n",
       "      <th>1</th>\n",
       "      <td>0.330973</td>\n",
       "      <td>0</td>\n",
       "      <td>0.305133</td>\n",
       "      <td>0</td>\n",
       "    </tr>\n",
       "    <tr>\n",
       "      <th>2</th>\n",
       "      <td>0.707507</td>\n",
       "      <td>0</td>\n",
       "      <td>0.764164</td>\n",
       "      <td>0</td>\n",
       "    </tr>\n",
       "    <tr>\n",
       "      <th>3</th>\n",
       "      <td>0.500531</td>\n",
       "      <td>0</td>\n",
       "      <td>0.516814</td>\n",
       "      <td>0</td>\n",
       "    </tr>\n",
       "    <tr>\n",
       "      <th>4</th>\n",
       "      <td>0.964248</td>\n",
       "      <td>1</td>\n",
       "      <td>0.968496</td>\n",
       "      <td>1</td>\n",
       "    </tr>\n",
       "  </tbody>\n",
       "</table>\n",
       "</div>"
      ],
      "text/plain": [
       "    lgbm-v3  lgbm-v3_p   lgbm-v5  lgbm-v5_p\n",
       "0  0.970255          1  0.970255          1\n",
       "1  0.330973          0  0.305133          0\n",
       "2  0.707507          0  0.764164          0\n",
       "3  0.500531          0  0.516814          0\n",
       "4  0.964248          1  0.968496          1"
      ]
     },
     "execution_count": 54,
     "metadata": {},
     "output_type": "execute_result"
    }
   ],
   "source": [
    "df_train_preds = df_train_preds[['lgbm-v3', 'lgbm-v3_p', 'lgbm-v5', 'lgbm-v5_p']]\n",
    "df_train_preds.head()"
   ]
  },
  {
   "cell_type": "code",
   "execution_count": 55,
   "metadata": {},
   "outputs": [
    {
     "data": {
      "text/plain": [
       "((14123, 4), (14123,))"
      ]
     },
     "execution_count": 55,
     "metadata": {},
     "output_type": "execute_result"
    }
   ],
   "source": [
    "df_train_preds.shape, y.shape"
   ]
  },
  {
   "cell_type": "code",
   "execution_count": 57,
   "metadata": {},
   "outputs": [
    {
     "data": {
      "text/plain": [
       "0.019046944700134533"
      ]
     },
     "execution_count": 57,
     "metadata": {},
     "output_type": "execute_result"
    }
   ],
   "source": [
    "# Models disagree\n",
    "df_train_preds[df_train_preds['lgbm-v3_p'] != df_train_preds['lgbm-v5_p']].shape[0]/len(y)"
   ]
  },
  {
   "cell_type": "code",
   "execution_count": 58,
   "metadata": {},
   "outputs": [
    {
     "data": {
      "text/plain": [
       "0.9809530552998654"
      ]
     },
     "execution_count": 58,
     "metadata": {},
     "output_type": "execute_result"
    }
   ],
   "source": [
    "# models agree\n",
    "df_train_preds[df_train_preds['lgbm-v3_p'] == df_train_preds['lgbm-v5_p']].shape[0]/len(y)"
   ]
  },
  {
   "cell_type": "code",
   "execution_count": 59,
   "metadata": {},
   "outputs": [
    {
     "data": {
      "text/plain": [
       "0.1178219924945125"
      ]
     },
     "execution_count": 59,
     "metadata": {},
     "output_type": "execute_result"
    }
   ],
   "source": [
    "# Models agree and are wrong \n",
    "mask = (\n",
    "    (df_train_preds['lgbm-v3_p'] == df_train_preds['lgbm-v5_p'])\n",
    "    & (df_train_preds['lgbm-v5_p'] != y)\n",
    ")\n",
    "df_train_preds[mask].shape[0]/len(y)"
   ]
  },
  {
   "cell_type": "code",
   "execution_count": 60,
   "metadata": {},
   "outputs": [
    {
     "data": {
      "text/html": [
       "<div>\n",
       "<style scoped>\n",
       "    .dataframe tbody tr th:only-of-type {\n",
       "        vertical-align: middle;\n",
       "    }\n",
       "\n",
       "    .dataframe tbody tr th {\n",
       "        vertical-align: top;\n",
       "    }\n",
       "\n",
       "    .dataframe thead th {\n",
       "        text-align: right;\n",
       "    }\n",
       "</style>\n",
       "<table border=\"1\" class=\"dataframe\">\n",
       "  <thead>\n",
       "    <tr style=\"text-align: right;\">\n",
       "      <th></th>\n",
       "      <th>lgbm-v3</th>\n",
       "      <th>lgbm-v3_p</th>\n",
       "      <th>lgbm-v5</th>\n",
       "      <th>lgbm-v5_p</th>\n",
       "    </tr>\n",
       "  </thead>\n",
       "  <tbody>\n",
       "    <tr>\n",
       "      <th>8</th>\n",
       "      <td>0.713527</td>\n",
       "      <td>0</td>\n",
       "      <td>0.794618</td>\n",
       "      <td>1</td>\n",
       "    </tr>\n",
       "    <tr>\n",
       "      <th>71</th>\n",
       "      <td>0.797876</td>\n",
       "      <td>0</td>\n",
       "      <td>0.801062</td>\n",
       "      <td>1</td>\n",
       "    </tr>\n",
       "    <tr>\n",
       "      <th>77</th>\n",
       "      <td>0.809844</td>\n",
       "      <td>1</td>\n",
       "      <td>0.729108</td>\n",
       "      <td>0</td>\n",
       "    </tr>\n",
       "    <tr>\n",
       "      <th>112</th>\n",
       "      <td>0.782578</td>\n",
       "      <td>0</td>\n",
       "      <td>0.802054</td>\n",
       "      <td>1</td>\n",
       "    </tr>\n",
       "    <tr>\n",
       "      <th>114</th>\n",
       "      <td>0.771246</td>\n",
       "      <td>0</td>\n",
       "      <td>0.808074</td>\n",
       "      <td>1</td>\n",
       "    </tr>\n",
       "    <tr>\n",
       "      <th>...</th>\n",
       "      <td>...</td>\n",
       "      <td>...</td>\n",
       "      <td>...</td>\n",
       "      <td>...</td>\n",
       "    </tr>\n",
       "    <tr>\n",
       "      <th>13645</th>\n",
       "      <td>0.773451</td>\n",
       "      <td>0</td>\n",
       "      <td>0.808142</td>\n",
       "      <td>1</td>\n",
       "    </tr>\n",
       "    <tr>\n",
       "      <th>13867</th>\n",
       "      <td>0.808428</td>\n",
       "      <td>1</td>\n",
       "      <td>0.785765</td>\n",
       "      <td>0</td>\n",
       "    </tr>\n",
       "    <tr>\n",
       "      <th>13873</th>\n",
       "      <td>0.788319</td>\n",
       "      <td>0</td>\n",
       "      <td>0.829381</td>\n",
       "      <td>1</td>\n",
       "    </tr>\n",
       "    <tr>\n",
       "      <th>13893</th>\n",
       "      <td>0.792212</td>\n",
       "      <td>0</td>\n",
       "      <td>0.803186</td>\n",
       "      <td>1</td>\n",
       "    </tr>\n",
       "    <tr>\n",
       "      <th>13964</th>\n",
       "      <td>0.773805</td>\n",
       "      <td>0</td>\n",
       "      <td>0.814159</td>\n",
       "      <td>1</td>\n",
       "    </tr>\n",
       "  </tbody>\n",
       "</table>\n",
       "<p>269 rows × 4 columns</p>\n",
       "</div>"
      ],
      "text/plain": [
       "        lgbm-v3  lgbm-v3_p   lgbm-v5  lgbm-v5_p\n",
       "8      0.713527          0  0.794618          1\n",
       "71     0.797876          0  0.801062          1\n",
       "77     0.809844          1  0.729108          0\n",
       "112    0.782578          0  0.802054          1\n",
       "114    0.771246          0  0.808074          1\n",
       "...         ...        ...       ...        ...\n",
       "13645  0.773451          0  0.808142          1\n",
       "13867  0.808428          1  0.785765          0\n",
       "13873  0.788319          0  0.829381          1\n",
       "13893  0.792212          0  0.803186          1\n",
       "13964  0.773805          0  0.814159          1\n",
       "\n",
       "[269 rows x 4 columns]"
      ]
     },
     "execution_count": 60,
     "metadata": {},
     "output_type": "execute_result"
    }
   ],
   "source": [
    "# Models disagree\n",
    "df_train_preds[df_train_preds['lgbm-v3_p'] != df_train_preds['lgbm-v5_p']]"
   ]
  },
  {
   "cell_type": "code",
   "execution_count": 49,
   "metadata": {},
   "outputs": [
    {
     "data": {
      "text/plain": [
       "True"
      ]
     },
     "execution_count": 49,
     "metadata": {},
     "output_type": "execute_result"
    }
   ],
   "source": [
    "all(df_train_preds['preds_p'] == y)"
   ]
  },
  {
   "cell_type": "markdown",
   "metadata": {},
   "source": [
    "---"
   ]
  },
  {
   "cell_type": "code",
   "execution_count": 18,
   "metadata": {},
   "outputs": [],
   "source": [
    "df_train_preds = df_train_preds[[col for col in df_train_preds.columns if 'nn-v1' not in col]]"
   ]
  },
  {
   "cell_type": "code",
   "execution_count": 4,
   "metadata": {},
   "outputs": [
    {
     "data": {
      "text/html": [
       "<div>\n",
       "<style scoped>\n",
       "    .dataframe tbody tr th:only-of-type {\n",
       "        vertical-align: middle;\n",
       "    }\n",
       "\n",
       "    .dataframe tbody tr th {\n",
       "        vertical-align: top;\n",
       "    }\n",
       "\n",
       "    .dataframe thead th {\n",
       "        text-align: right;\n",
       "    }\n",
       "</style>\n",
       "<table border=\"1\" class=\"dataframe\">\n",
       "  <thead>\n",
       "    <tr style=\"text-align: right;\">\n",
       "      <th></th>\n",
       "      <th>nn-v1</th>\n",
       "      <th>magic-v1</th>\n",
       "      <th>lgbm-v5</th>\n",
       "      <th>lgbm-v3</th>\n",
       "      <th>lgbm-v2</th>\n",
       "      <th>nn-aug-v1</th>\n",
       "      <th>lgbm-v1</th>\n",
       "      <th>preds</th>\n",
       "    </tr>\n",
       "  </thead>\n",
       "  <tbody>\n",
       "    <tr>\n",
       "      <th>0</th>\n",
       "      <td>0.993534</td>\n",
       "      <td>0.858467</td>\n",
       "      <td>0.961611</td>\n",
       "      <td>0.974565</td>\n",
       "      <td>0.972648</td>\n",
       "      <td>0.760760</td>\n",
       "      <td>0.908583</td>\n",
       "      <td>0.970127</td>\n",
       "    </tr>\n",
       "    <tr>\n",
       "      <th>1</th>\n",
       "      <td>0.393391</td>\n",
       "      <td>0.397818</td>\n",
       "      <td>0.868451</td>\n",
       "      <td>0.898183</td>\n",
       "      <td>0.888628</td>\n",
       "      <td>0.637950</td>\n",
       "      <td>0.620028</td>\n",
       "      <td>0.901128</td>\n",
       "    </tr>\n",
       "    <tr>\n",
       "      <th>2</th>\n",
       "      <td>0.132986</td>\n",
       "      <td>0.101617</td>\n",
       "      <td>0.727026</td>\n",
       "      <td>0.756021</td>\n",
       "      <td>0.767021</td>\n",
       "      <td>0.313109</td>\n",
       "      <td>0.262384</td>\n",
       "      <td>0.756796</td>\n",
       "    </tr>\n",
       "    <tr>\n",
       "      <th>3</th>\n",
       "      <td>0.038953</td>\n",
       "      <td>0.531408</td>\n",
       "      <td>0.821234</td>\n",
       "      <td>0.795421</td>\n",
       "      <td>0.801718</td>\n",
       "      <td>0.545096</td>\n",
       "      <td>0.339390</td>\n",
       "      <td>0.827664</td>\n",
       "    </tr>\n",
       "    <tr>\n",
       "      <th>4</th>\n",
       "      <td>0.609065</td>\n",
       "      <td>0.375882</td>\n",
       "      <td>0.802153</td>\n",
       "      <td>0.816872</td>\n",
       "      <td>0.812227</td>\n",
       "      <td>0.561998</td>\n",
       "      <td>0.379667</td>\n",
       "      <td>0.775660</td>\n",
       "    </tr>\n",
       "  </tbody>\n",
       "</table>\n",
       "</div>"
      ],
      "text/plain": [
       "      nn-v1  magic-v1   lgbm-v5   lgbm-v3   lgbm-v2  nn-aug-v1   lgbm-v1  \\\n",
       "0  0.993534  0.858467  0.961611  0.974565  0.972648   0.760760  0.908583   \n",
       "1  0.393391  0.397818  0.868451  0.898183  0.888628   0.637950  0.620028   \n",
       "2  0.132986  0.101617  0.727026  0.756021  0.767021   0.313109  0.262384   \n",
       "3  0.038953  0.531408  0.821234  0.795421  0.801718   0.545096  0.339390   \n",
       "4  0.609065  0.375882  0.802153  0.816872  0.812227   0.561998  0.379667   \n",
       "\n",
       "      preds  \n",
       "0  0.970127  \n",
       "1  0.901128  \n",
       "2  0.756796  \n",
       "3  0.827664  \n",
       "4  0.775660  "
      ]
     },
     "execution_count": 4,
     "metadata": {},
     "output_type": "execute_result"
    }
   ],
   "source": [
    "df_test_preds = pd.DataFrame()\n",
    "\n",
    "for f in glob(\"../output/mario/test*.csv\") + glob(\"../output/hugo/test*.csv\"):\n",
    "    prefix = f.split(\"_\")[-1]\n",
    "    prefix = prefix.replace(\".csv\", \"\")    \n",
    "    df_test_preds[f\"{prefix}\"] = pd.read_csv(f)['y']\n",
    "df_test_preds.head()"
   ]
  },
  {
   "cell_type": "code",
   "execution_count": 49,
   "metadata": {},
   "outputs": [
    {
     "name": "stdout",
     "output_type": "stream",
     "text": [
      "0.8971985227861634\n"
     ]
    }
   ],
   "source": [
    "blend_pred = (0.5 * df_train_preds['lgbm-v3']) + (0.4 * df_train_preds['preds']) + (0.05 * df_train_preds['nn-aug-v1'])\n",
    "print(roc_auc_score(y, blend_pred))"
   ]
  },
  {
   "cell_type": "code",
   "execution_count": 44,
   "metadata": {},
   "outputs": [
    {
     "name": "stderr",
     "output_type": "stream",
     "text": [
      " 99%|█████████▉| 993/1000 [00:27<00:00, 36.33it/s]\n"
     ]
    },
    {
     "data": {
      "image/png": "[encoded data removed]",
      "text/plain": [
       "<Figure size 720x360 with 1 Axes>"
      ]
     },
     "metadata": {},
     "output_type": "display_data"
    },
    {
     "name": "stdout",
     "output_type": "stream",
     "text": [
      "max_f1 [0.765]: 0.6872078933702613\n"
     ]
    }
   ],
   "source": [
    "from tqdm import tqdm\n",
    "import matplotlib.pyplot as plt\n",
    "\n",
    "f1, precision, recall = [], [], []\n",
    "max_f1_threshold = -1\n",
    "max_f1 = -1\n",
    "for i in tqdm(range(1000)):\n",
    "    _i = i / 1000.0\n",
    "    \n",
    "    y_pred = np.where(blend_pred > _i, 1, 0)\n",
    "    \n",
    "    _precision = precision_score(train_preds[TARGET], y_pred)\n",
    "    if _precision == 1.0:\n",
    "        break\n",
    "    _f1 = f1_score(train_preds[TARGET], y_pred)\n",
    "    if _f1 > max_f1:\n",
    "        max_f1 = _f1\n",
    "        max_f1_threshold = _i\n",
    "    \n",
    "    f1.append(_f1)\n",
    "    precision.append(_precision)\n",
    "    recall.append(recall_score(train_preds[TARGET], y_pred))\n",
    "    \n",
    "plt.figure(figsize=[10, 5])\n",
    "plt.plot(range(len(f1)), f1, label=\"f1\")\n",
    "plt.plot(range(len(f1)), precision, label=\"precision\")\n",
    "plt.plot(range(len(f1)), recall, label=\"recall\")\n",
    "plt.legend()\n",
    "plt.tight_layout()\n",
    "plt.show()\n",
    "\n",
    "print(f\"max_f1 [{max_f1_threshold}]: {max_f1}\")\n",
    "# max_f1 [0.776]: 0.6822942643391521 0.6857142857142858"
   ]
  },
  {
   "cell_type": "markdown",
   "metadata": {},
   "source": [
    "---"
   ]
  },
  {
   "cell_type": "code",
   "execution_count": 50,
   "metadata": {},
   "outputs": [
    {
     "data": {
      "text/html": [
       "<div>\n",
       "<style scoped>\n",
       "    .dataframe tbody tr th:only-of-type {\n",
       "        vertical-align: middle;\n",
       "    }\n",
       "\n",
       "    .dataframe tbody tr th {\n",
       "        vertical-align: top;\n",
       "    }\n",
       "\n",
       "    .dataframe thead th {\n",
       "        text-align: right;\n",
       "    }\n",
       "</style>\n",
       "<table border=\"1\" class=\"dataframe\">\n",
       "  <thead>\n",
       "    <tr style=\"text-align: right;\">\n",
       "      <th></th>\n",
       "      <th>id</th>\n",
       "      <th>predicted</th>\n",
       "    </tr>\n",
       "  </thead>\n",
       "  <tbody>\n",
       "    <tr>\n",
       "      <th>0</th>\n",
       "      <td>0</td>\n",
       "      <td>1</td>\n",
       "    </tr>\n",
       "    <tr>\n",
       "      <th>1</th>\n",
       "      <td>2</td>\n",
       "      <td>1</td>\n",
       "    </tr>\n",
       "    <tr>\n",
       "      <th>2</th>\n",
       "      <td>4</td>\n",
       "      <td>1</td>\n",
       "    </tr>\n",
       "    <tr>\n",
       "      <th>3</th>\n",
       "      <td>7</td>\n",
       "      <td>0</td>\n",
       "    </tr>\n",
       "    <tr>\n",
       "      <th>4</th>\n",
       "      <td>15</td>\n",
       "      <td>1</td>\n",
       "    </tr>\n",
       "  </tbody>\n",
       "</table>\n",
       "</div>"
      ],
      "text/plain": [
       "   id  predicted\n",
       "0   0          1\n",
       "1   2          1\n",
       "2   4          1\n",
       "3   7          0\n",
       "4  15          1"
      ]
     },
     "execution_count": 50,
     "metadata": {},
     "output_type": "execute_result"
    }
   ],
   "source": [
    "df_sub = pd.read_csv(\"../data/submission_sample.csv\")\n",
    "df_sub.head()"
   ]
  },
  {
   "cell_type": "code",
   "execution_count": 51,
   "metadata": {},
   "outputs": [],
   "source": [
    "blend_pred = (0.5 * df_test_preds['lgbm-v3']) + (0.4 * df_test_preds['preds']) + (0.05 * df_test_preds['nn-aug-v1'])\n",
    "df_sub['predicted'] = np.where(blend_pred > max_f1_threshold, 1, 0)"
   ]
  },
  {
   "cell_type": "code",
   "execution_count": 52,
   "metadata": {},
   "outputs": [
    {
     "data": {
      "text/html": [
       "<div>\n",
       "<style scoped>\n",
       "    .dataframe tbody tr th:only-of-type {\n",
       "        vertical-align: middle;\n",
       "    }\n",
       "\n",
       "    .dataframe tbody tr th {\n",
       "        vertical-align: top;\n",
       "    }\n",
       "\n",
       "    .dataframe thead th {\n",
       "        text-align: right;\n",
       "    }\n",
       "</style>\n",
       "<table border=\"1\" class=\"dataframe\">\n",
       "  <thead>\n",
       "    <tr style=\"text-align: right;\">\n",
       "      <th></th>\n",
       "      <th>id</th>\n",
       "      <th>predicted</th>\n",
       "    </tr>\n",
       "  </thead>\n",
       "  <tbody>\n",
       "    <tr>\n",
       "      <th>count</th>\n",
       "      <td>21183.000000</td>\n",
       "      <td>21183.000000</td>\n",
       "    </tr>\n",
       "    <tr>\n",
       "      <th>mean</th>\n",
       "      <td>17771.185951</td>\n",
       "      <td>0.171553</td>\n",
       "    </tr>\n",
       "    <tr>\n",
       "      <th>std</th>\n",
       "      <td>10152.645928</td>\n",
       "      <td>0.377000</td>\n",
       "    </tr>\n",
       "    <tr>\n",
       "      <th>min</th>\n",
       "      <td>0.000000</td>\n",
       "      <td>0.000000</td>\n",
       "    </tr>\n",
       "    <tr>\n",
       "      <th>25%</th>\n",
       "      <td>8974.500000</td>\n",
       "      <td>0.000000</td>\n",
       "    </tr>\n",
       "    <tr>\n",
       "      <th>50%</th>\n",
       "      <td>17766.000000</td>\n",
       "      <td>0.000000</td>\n",
       "    </tr>\n",
       "    <tr>\n",
       "      <th>75%</th>\n",
       "      <td>26555.000000</td>\n",
       "      <td>0.000000</td>\n",
       "    </tr>\n",
       "    <tr>\n",
       "      <th>max</th>\n",
       "      <td>35303.000000</td>\n",
       "      <td>1.000000</td>\n",
       "    </tr>\n",
       "  </tbody>\n",
       "</table>\n",
       "</div>"
      ],
      "text/plain": [
       "                 id     predicted\n",
       "count  21183.000000  21183.000000\n",
       "mean   17771.185951      0.171553\n",
       "std    10152.645928      0.377000\n",
       "min        0.000000      0.000000\n",
       "25%     8974.500000      0.000000\n",
       "50%    17766.000000      0.000000\n",
       "75%    26555.000000      0.000000\n",
       "max    35303.000000      1.000000"
      ]
     },
     "execution_count": 52,
     "metadata": {},
     "output_type": "execute_result"
    }
   ],
   "source": [
    "df_sub.describe()"
   ]
  },
  {
   "cell_type": "code",
   "execution_count": 53,
   "metadata": {},
   "outputs": [
    {
     "data": {
      "text/html": [
       "<div>\n",
       "<style scoped>\n",
       "    .dataframe tbody tr th:only-of-type {\n",
       "        vertical-align: middle;\n",
       "    }\n",
       "\n",
       "    .dataframe tbody tr th {\n",
       "        vertical-align: top;\n",
       "    }\n",
       "\n",
       "    .dataframe thead th {\n",
       "        text-align: right;\n",
       "    }\n",
       "</style>\n",
       "<table border=\"1\" class=\"dataframe\">\n",
       "  <thead>\n",
       "    <tr style=\"text-align: right;\">\n",
       "      <th></th>\n",
       "      <th>id</th>\n",
       "      <th>predicted</th>\n",
       "    </tr>\n",
       "  </thead>\n",
       "  <tbody>\n",
       "    <tr>\n",
       "      <th>0</th>\n",
       "      <td>0</td>\n",
       "      <td>1</td>\n",
       "    </tr>\n",
       "    <tr>\n",
       "      <th>1</th>\n",
       "      <td>2</td>\n",
       "      <td>1</td>\n",
       "    </tr>\n",
       "    <tr>\n",
       "      <th>2</th>\n",
       "      <td>4</td>\n",
       "      <td>0</td>\n",
       "    </tr>\n",
       "    <tr>\n",
       "      <th>3</th>\n",
       "      <td>7</td>\n",
       "      <td>0</td>\n",
       "    </tr>\n",
       "    <tr>\n",
       "      <th>4</th>\n",
       "      <td>15</td>\n",
       "      <td>0</td>\n",
       "    </tr>\n",
       "  </tbody>\n",
       "</table>\n",
       "</div>"
      ],
      "text/plain": [
       "   id  predicted\n",
       "0   0          1\n",
       "1   2          1\n",
       "2   4          0\n",
       "3   7          0\n",
       "4  15          0"
      ]
     },
     "execution_count": 53,
     "metadata": {},
     "output_type": "execute_result"
    }
   ],
   "source": [
    "df_sub.head()"
   ]
  },
  {
   "cell_type": "code",
   "execution_count": 54,
   "metadata": {},
   "outputs": [],
   "source": [
    "VERSION = 'blend-v1'\n",
    "df_sub.to_csv(f\"../output/mario/sub_{VERSION}.csv\", index=False)"
   ]
  },
  {
   "cell_type": "markdown",
   "metadata": {},
   "source": [
    "# Testing Stacking"
   ]
  },
  {
   "cell_type": "code",
   "execution_count": 19,
   "metadata": {},
   "outputs": [
    {
     "name": "stdout",
     "output_type": "stream",
     "text": [
      "Fold 1, AUC: 1.0\n",
      "Fold 2, AUC: 1.0\n",
      "Fold 3, AUC: 1.0\n",
      "Fold 4, AUC: 1.0\n",
      "Fold 5, AUC: 1.0\n",
      "CV AUC: 1.0\n"
     ]
    }
   ],
   "source": [
    "import lightgbm as lgb\n",
    "from sklearn.model_selection import StratifiedKFold\n",
    "import gc\n",
    "\n",
    "SEED = 1996\n",
    "FOLDS = 5\n",
    "TARGET = 'y'\n",
    "\n",
    "df_train = df_train_preds.copy()\n",
    "df_train[TARGET] = y\n",
    "\n",
    "features_to_drop = [TARGET]\n",
    "features = [ft for ft in df_train.columns if ft not in features_to_drop]\n",
    "\n",
    "importances = df_train[features].columns.to_frame()\n",
    "train_preds = df_train[TARGET].to_frame()\n",
    "train_preds[\"preds\"] = 0\n",
    "\n",
    "# df_sub[\"predicted\"] = 0\n",
    "# df_sub[TARGET] = 0\n",
    "\n",
    "\n",
    "kfold = StratifiedKFold(n_splits=FOLDS, shuffle=True, random_state=SEED)\n",
    "for fold, (train_index, valid_index) in enumerate(kfold.split(df_train, df_train[TARGET])):\n",
    "    x_train, x_valid = df_train.loc[train_index][features], df_train.loc[valid_index][features]\n",
    "    y_train, y_valid = df_train.loc[train_index][TARGET], df_train.loc[valid_index][TARGET]\n",
    "    \n",
    "    clf = lgb.LGBMClassifier(\n",
    "        learning_rate=0.01,\n",
    "        n_estimators=5000,\n",
    "        random_state=SEED,\n",
    "        boosting=\"gbdt\",\n",
    "        objective=\"binary\",\n",
    "        max_depth=3\n",
    "    )\n",
    "    \n",
    "    clf.fit(\n",
    "        x_train,\n",
    "        y_train,\n",
    "        eval_set=[(x_valid, y_valid)],\n",
    "        eval_metric=\"auc\",\n",
    "        early_stopping_rounds=1000,\n",
    "        verbose=0\n",
    "    )\n",
    "    \n",
    "    y_pred = clf.predict_proba(x_valid, num_iteration=clf.best_iteration_)[:, 1]\n",
    "    y_pred = (pd.Series(y_pred).rank()/len(x_valid)).values\n",
    "    train_preds.loc[valid_index, \"preds\"] = y_pred\n",
    "    \n",
    "#     test_preds = clf.predict_proba(df_test_preds[features], num_iteration=clf.best_iteration_)[:, 1]\n",
    "#     test_preds = (pd.Series(test_preds).rank()/len(test_preds)).values\n",
    "#     df_sub[TARGET] += test_preds/FOLDS\n",
    "    \n",
    "    importances[fold] = clf.feature_importances_    \n",
    "    \n",
    "    print(f\"Fold {fold+1}, AUC: {roc_auc_score(y_valid, y_pred)}\")\n",
    "    gc.collect()\n",
    "\n",
    "print(f\"CV AUC: {roc_auc_score(train_preds[TARGET], train_preds['preds'])}\")"
   ]
  },
  {
   "cell_type": "code",
   "execution_count": 20,
   "metadata": {},
   "outputs": [
    {
     "data": {
      "text/plain": [
       "lgbm-v3        1.2\n",
       "lgbm-v3_p      0.0\n",
       "lgbm-v2        0.0\n",
       "lgbm-v2_p      0.0\n",
       "lgbm-v5        0.0\n",
       "lgbm-v5_p      0.0\n",
       "magic-v1       0.0\n",
       "magic-v1_p     0.0\n",
       "nn-aug-v1      0.0\n",
       "nn-aug-v1_p    0.0\n",
       "lgbm-v1        0.0\n",
       "lgbm-v1_p      0.0\n",
       "preds          0.0\n",
       "preds_p        1.0\n",
       "dtype: float64"
      ]
     },
     "execution_count": 20,
     "metadata": {},
     "output_type": "execute_result"
    }
   ],
   "source": [
    "importances.mean(axis=1)"
   ]
  },
  {
   "cell_type": "markdown",
   "metadata": {},
   "source": [
    "# Opt F1"
   ]
  },
  {
   "cell_type": "code",
   "execution_count": 27,
   "metadata": {},
   "outputs": [
    {
     "name": "stderr",
     "output_type": "stream",
     "text": [
      " 99%|█████████▉| 991/1000 [00:27<00:00, 36.05it/s]\n"
     ]
    },
    {
     "data": {
      "image/png": "[encoded data removed]",
      "text/plain": [
       "<Figure size 720x360 with 1 Axes>"
      ]
     },
     "metadata": {},
     "output_type": "display_data"
    },
    {
     "name": "stdout",
     "output_type": "stream",
     "text": [
      "max_f1 [0.792]: 0.6857833822767317\n"
     ]
    }
   ],
   "source": [
    "from tqdm import tqdm\n",
    "import matplotlib.pyplot as plt\n",
    "\n",
    "f1, precision, recall = [], [], []\n",
    "max_f1_threshold = -1\n",
    "max_f1 = -1\n",
    "for i in tqdm(range(1000)):\n",
    "    _i = i / 1000.0\n",
    "    \n",
    "    y_pred = np.where(train_preds[\"preds\"] > _i, 1, 0)\n",
    "    \n",
    "    _precision = precision_score(train_preds[TARGET], y_pred)\n",
    "    if _precision == 1.0:\n",
    "        break\n",
    "    _f1 = f1_score(train_preds[TARGET], y_pred)\n",
    "    if _f1 > max_f1:\n",
    "        max_f1 = _f1\n",
    "        max_f1_threshold = _i\n",
    "    \n",
    "    f1.append(_f1)\n",
    "    precision.append(_precision)\n",
    "    recall.append(recall_score(train_preds[TARGET], y_pred))\n",
    "    \n",
    "plt.figure(figsize=[10, 5])\n",
    "plt.plot(range(len(f1)), f1, label=\"f1\")\n",
    "plt.plot(range(len(f1)), precision, label=\"precision\")\n",
    "plt.plot(range(len(f1)), recall, label=\"recall\")\n",
    "plt.legend()\n",
    "plt.tight_layout()\n",
    "plt.show()\n",
    "\n",
    "print(f\"max_f1 [{max_f1_threshold}]: {max_f1}\")\n",
    "# max_f1 [0.776]: 0.6822942643391521 0.6857142857142858"
   ]
  },
  {
   "cell_type": "code",
   "execution_count": 28,
   "metadata": {},
   "outputs": [
    {
     "data": {
      "text/plain": [
       "<matplotlib.axes._subplots.AxesSubplot at 0x7f4edb0bf080>"
      ]
     },
     "execution_count": 28,
     "metadata": {},
     "output_type": "execute_result"
    },
    {
     "data": {
      "image/png": "[encoded data removed]",
      "text/plain": [
       "<Figure size 1440x1584 with 1 Axes>"
      ]
     },
     "metadata": {},
     "output_type": "display_data"
    }
   ],
   "source": [
    "lgb.plot_tree(clf, figsize=(20, 22), tree_index=100)"
   ]
  },
  {
   "cell_type": "code",
   "execution_count": 11,
   "metadata": {},
   "outputs": [
    {
     "name": "stdout",
     "output_type": "stream",
     "text": [
      "VERSION ::: stk-v1\n"
     ]
    }
   ],
   "source": [
    "VERSION = 'stk-v1'\n",
    "print(f\"VERSION ::: {VERSION}\")"
   ]
  },
  {
   "cell_type": "code",
   "execution_count": 12,
   "metadata": {},
   "outputs": [
    {
     "data": {
      "text/plain": [
       "<matplotlib.axes._subplots.AxesSubplot at 0x7f4ee89ece10>"
      ]
     },
     "execution_count": 12,
     "metadata": {},
     "output_type": "execute_result"
    },
    {
     "data": {
      "image/png": "[encoded data removed]",
      "text/plain": [
       "<Figure size 432x288 with 1 Axes>"
      ]
     },
     "metadata": {
      "needs_background": "light"
     },
     "output_type": "display_data"
    }
   ],
   "source": [
    "df_sub[TARGET].hist()"
   ]
  },
  {
   "cell_type": "code",
   "execution_count": 13,
   "metadata": {},
   "outputs": [
    {
     "data": {
      "text/html": [
       "<div>\n",
       "<style scoped>\n",
       "    .dataframe tbody tr th:only-of-type {\n",
       "        vertical-align: middle;\n",
       "    }\n",
       "\n",
       "    .dataframe tbody tr th {\n",
       "        vertical-align: top;\n",
       "    }\n",
       "\n",
       "    .dataframe thead th {\n",
       "        text-align: right;\n",
       "    }\n",
       "</style>\n",
       "<table border=\"1\" class=\"dataframe\">\n",
       "  <thead>\n",
       "    <tr style=\"text-align: right;\">\n",
       "      <th></th>\n",
       "      <th>id</th>\n",
       "      <th>predicted</th>\n",
       "      <th>y</th>\n",
       "    </tr>\n",
       "  </thead>\n",
       "  <tbody>\n",
       "    <tr>\n",
       "      <th>0</th>\n",
       "      <td>0</td>\n",
       "      <td>1</td>\n",
       "      <td>0.970826</td>\n",
       "    </tr>\n",
       "    <tr>\n",
       "      <th>1</th>\n",
       "      <td>2</td>\n",
       "      <td>1</td>\n",
       "      <td>0.881344</td>\n",
       "    </tr>\n",
       "    <tr>\n",
       "      <th>2</th>\n",
       "      <td>4</td>\n",
       "      <td>0</td>\n",
       "      <td>0.756319</td>\n",
       "    </tr>\n",
       "    <tr>\n",
       "      <th>3</th>\n",
       "      <td>7</td>\n",
       "      <td>1</td>\n",
       "      <td>0.809947</td>\n",
       "    </tr>\n",
       "    <tr>\n",
       "      <th>4</th>\n",
       "      <td>15</td>\n",
       "      <td>1</td>\n",
       "      <td>0.804050</td>\n",
       "    </tr>\n",
       "  </tbody>\n",
       "</table>\n",
       "</div>"
      ],
      "text/plain": [
       "   id  predicted         y\n",
       "0   0          1  0.970826\n",
       "1   2          1  0.881344\n",
       "2   4          0  0.756319\n",
       "3   7          1  0.809947\n",
       "4  15          1  0.804050"
      ]
     },
     "execution_count": 13,
     "metadata": {},
     "output_type": "execute_result"
    }
   ],
   "source": [
    "df_sub[\"predicted\"] = np.where(df_sub[TARGET] > max_f1_threshold, 1, 0)\n",
    "df_sub.head()"
   ]
  },
  {
   "cell_type": "code",
   "execution_count": 14,
   "metadata": {},
   "outputs": [
    {
     "data": {
      "text/html": [
       "<div>\n",
       "<style scoped>\n",
       "    .dataframe tbody tr th:only-of-type {\n",
       "        vertical-align: middle;\n",
       "    }\n",
       "\n",
       "    .dataframe tbody tr th {\n",
       "        vertical-align: top;\n",
       "    }\n",
       "\n",
       "    .dataframe thead th {\n",
       "        text-align: right;\n",
       "    }\n",
       "</style>\n",
       "<table border=\"1\" class=\"dataframe\">\n",
       "  <thead>\n",
       "    <tr style=\"text-align: right;\">\n",
       "      <th></th>\n",
       "      <th>predicted</th>\n",
       "      <th>y</th>\n",
       "    </tr>\n",
       "  </thead>\n",
       "  <tbody>\n",
       "    <tr>\n",
       "      <th>count</th>\n",
       "      <td>21183.000000</td>\n",
       "      <td>21183.000000</td>\n",
       "    </tr>\n",
       "    <tr>\n",
       "      <th>mean</th>\n",
       "      <td>0.208516</td>\n",
       "      <td>0.500024</td>\n",
       "    </tr>\n",
       "    <tr>\n",
       "      <th>std</th>\n",
       "      <td>0.406257</td>\n",
       "      <td>0.287314</td>\n",
       "    </tr>\n",
       "    <tr>\n",
       "      <th>min</th>\n",
       "      <td>0.000000</td>\n",
       "      <td>0.021536</td>\n",
       "    </tr>\n",
       "    <tr>\n",
       "      <th>25%</th>\n",
       "      <td>0.000000</td>\n",
       "      <td>0.248216</td>\n",
       "    </tr>\n",
       "    <tr>\n",
       "      <th>50%</th>\n",
       "      <td>0.000000</td>\n",
       "      <td>0.498938</td>\n",
       "    </tr>\n",
       "    <tr>\n",
       "      <th>75%</th>\n",
       "      <td>0.000000</td>\n",
       "      <td>0.748211</td>\n",
       "    </tr>\n",
       "    <tr>\n",
       "      <th>max</th>\n",
       "      <td>1.000000</td>\n",
       "      <td>0.992031</td>\n",
       "    </tr>\n",
       "  </tbody>\n",
       "</table>\n",
       "</div>"
      ],
      "text/plain": [
       "          predicted             y\n",
       "count  21183.000000  21183.000000\n",
       "mean       0.208516      0.500024\n",
       "std        0.406257      0.287314\n",
       "min        0.000000      0.021536\n",
       "25%        0.000000      0.248216\n",
       "50%        0.000000      0.498938\n",
       "75%        0.000000      0.748211\n",
       "max        1.000000      0.992031"
      ]
     },
     "execution_count": 14,
     "metadata": {},
     "output_type": "execute_result"
    }
   ],
   "source": [
    "df_sub[[\"predicted\", \"y\"]].describe()"
   ]
  },
  {
   "cell_type": "code",
   "execution_count": 15,
   "metadata": {},
   "outputs": [
    {
     "data": {
      "text/html": [
       "<div>\n",
       "<style scoped>\n",
       "    .dataframe tbody tr th:only-of-type {\n",
       "        vertical-align: middle;\n",
       "    }\n",
       "\n",
       "    .dataframe tbody tr th {\n",
       "        vertical-align: top;\n",
       "    }\n",
       "\n",
       "    .dataframe thead th {\n",
       "        text-align: right;\n",
       "    }\n",
       "</style>\n",
       "<table border=\"1\" class=\"dataframe\">\n",
       "  <thead>\n",
       "    <tr style=\"text-align: right;\">\n",
       "      <th></th>\n",
       "      <th>predicted</th>\n",
       "      <th>y</th>\n",
       "    </tr>\n",
       "  </thead>\n",
       "  <tbody>\n",
       "    <tr>\n",
       "      <th>0</th>\n",
       "      <td>1</td>\n",
       "      <td>0.970078</td>\n",
       "    </tr>\n",
       "    <tr>\n",
       "      <th>1</th>\n",
       "      <td>0</td>\n",
       "      <td>0.281239</td>\n",
       "    </tr>\n",
       "    <tr>\n",
       "      <th>2</th>\n",
       "      <td>0</td>\n",
       "      <td>0.788421</td>\n",
       "    </tr>\n",
       "    <tr>\n",
       "      <th>3</th>\n",
       "      <td>0</td>\n",
       "      <td>0.515398</td>\n",
       "    </tr>\n",
       "    <tr>\n",
       "      <th>4</th>\n",
       "      <td>1</td>\n",
       "      <td>0.984779</td>\n",
       "    </tr>\n",
       "  </tbody>\n",
       "</table>\n",
       "</div>"
      ],
      "text/plain": [
       "   predicted         y\n",
       "0          1  0.970078\n",
       "1          0  0.281239\n",
       "2          0  0.788421\n",
       "3          0  0.515398\n",
       "4          1  0.984779"
      ]
     },
     "execution_count": 15,
     "metadata": {},
     "output_type": "execute_result"
    }
   ],
   "source": [
    "train_preds.columns = [\"predicted\", \"y\"]\n",
    "train_preds[\"predicted\"] = np.where(train_preds[\"y\"] > max_f1_threshold, 1, 0)\n",
    "train_preds.head()"
   ]
  },
  {
   "cell_type": "code",
   "execution_count": 17,
   "metadata": {},
   "outputs": [
    {
     "data": {
      "text/html": [
       "<div>\n",
       "<style scoped>\n",
       "    .dataframe tbody tr th:only-of-type {\n",
       "        vertical-align: middle;\n",
       "    }\n",
       "\n",
       "    .dataframe tbody tr th {\n",
       "        vertical-align: top;\n",
       "    }\n",
       "\n",
       "    .dataframe thead th {\n",
       "        text-align: right;\n",
       "    }\n",
       "</style>\n",
       "<table border=\"1\" class=\"dataframe\">\n",
       "  <thead>\n",
       "    <tr style=\"text-align: right;\">\n",
       "      <th></th>\n",
       "      <th>id</th>\n",
       "      <th>predicted</th>\n",
       "      <th>y</th>\n",
       "    </tr>\n",
       "  </thead>\n",
       "  <tbody>\n",
       "    <tr>\n",
       "      <th>0</th>\n",
       "      <td>1</td>\n",
       "      <td>1</td>\n",
       "      <td>0.970078</td>\n",
       "    </tr>\n",
       "    <tr>\n",
       "      <th>1</th>\n",
       "      <td>8</td>\n",
       "      <td>0</td>\n",
       "      <td>0.281239</td>\n",
       "    </tr>\n",
       "    <tr>\n",
       "      <th>2</th>\n",
       "      <td>30</td>\n",
       "      <td>0</td>\n",
       "      <td>0.788421</td>\n",
       "    </tr>\n",
       "    <tr>\n",
       "      <th>3</th>\n",
       "      <td>43</td>\n",
       "      <td>0</td>\n",
       "      <td>0.515398</td>\n",
       "    </tr>\n",
       "    <tr>\n",
       "      <th>4</th>\n",
       "      <td>46</td>\n",
       "      <td>1</td>\n",
       "      <td>0.984779</td>\n",
       "    </tr>\n",
       "  </tbody>\n",
       "</table>\n",
       "</div>"
      ],
      "text/plain": [
       "   id  predicted         y\n",
       "0   1          1  0.970078\n",
       "1   8          0  0.281239\n",
       "2  30          0  0.788421\n",
       "3  43          0  0.515398\n",
       "4  46          1  0.984779"
      ]
     },
     "execution_count": 17,
     "metadata": {},
     "output_type": "execute_result"
    }
   ],
   "source": [
    "train_preds[\"id\"] = pd.read_csv('../data/train.csv')['id']\n",
    "train_preds = train_preds[[\"id\", \"predicted\", \"y\"]]\n",
    "train_preds.head()"
   ]
  },
  {
   "cell_type": "code",
   "execution_count": 18,
   "metadata": {},
   "outputs": [],
   "source": [
    "# train_preds.to_csv(f\"../output/mario/train_preds_{VERSION}.csv\", index=False)\n",
    "# df_sub.to_csv(f\"../output/mario/test_preds_{VERSION}.csv\", index=False)\n",
    "df_sub.drop(\"y\", axis=1).to_csv(f\"../output/mario/sub_{VERSION}.csv\", index=False)"
   ]
  },
  {
   "cell_type": "markdown",
   "metadata": {},
   "source": [
    "# Confusion matrix"
   ]
  },
  {
   "cell_type": "code",
   "execution_count": 19,
   "metadata": {},
   "outputs": [
    {
     "data": {
      "image/png": "[encoded data removed]",
      "text/plain": [
       "<Figure size 432x288 with 2 Axes>"
      ]
     },
     "metadata": {},
     "output_type": "display_data"
    }
   ],
   "source": [
    "from sklearn.metrics import confusion_matrix\n",
    "import seaborn as sns; sns.set()\n",
    "\n",
    "cm = confusion_matrix(y_true=df_train[TARGET], y_pred=np.where(train_preds[TARGET] > max_f1_threshold, 1, 0), labels=[0, 1])\n",
    "\n",
    "ax= plt.subplot()\n",
    "sns.heatmap(cm, annot=True, fmt=\"g\", ax=ax);  #annot=True to annotate cells, ftm=\"g\" to disable scientific notation\n",
    "\n",
    "# labels, title and ticks\n",
    "ax.set_xlabel(\"Predicted labels\");\n",
    "ax.set_ylabel(\"True labels\"); \n",
    "ax.set_title(\"Confusion Matrix\");"
   ]
  },
  {
   "cell_type": "code",
   "execution_count": 20,
   "metadata": {},
   "outputs": [
    {
     "data": {
      "text/html": [
       "<div>\n",
       "<style scoped>\n",
       "    .dataframe tbody tr th:only-of-type {\n",
       "        vertical-align: middle;\n",
       "    }\n",
       "\n",
       "    .dataframe tbody tr th {\n",
       "        vertical-align: top;\n",
       "    }\n",
       "\n",
       "    .dataframe thead th {\n",
       "        text-align: right;\n",
       "    }\n",
       "</style>\n",
       "<table border=\"1\" class=\"dataframe\">\n",
       "  <thead>\n",
       "    <tr style=\"text-align: right;\">\n",
       "      <th></th>\n",
       "      <th>0</th>\n",
       "      <th>1</th>\n",
       "    </tr>\n",
       "  </thead>\n",
       "  <tbody>\n",
       "    <tr>\n",
       "      <th>0</th>\n",
       "      <td>10319</td>\n",
       "      <td>954</td>\n",
       "    </tr>\n",
       "    <tr>\n",
       "      <th>1</th>\n",
       "      <td>865</td>\n",
       "      <td>1985</td>\n",
       "    </tr>\n",
       "  </tbody>\n",
       "</table>\n",
       "</div>"
      ],
      "text/plain": [
       "       0     1\n",
       "0  10319   954\n",
       "1    865  1985"
      ]
     },
     "execution_count": 20,
     "metadata": {},
     "output_type": "execute_result"
    }
   ],
   "source": [
    "pd.DataFrame(cm)"
   ]
  }
 ],
 "metadata": {
  "hide_input": false,
  "kernelspec": {
   "display_name": "Python 3",
   "language": "python",
   "name": "python3"
  },
  "language_info": {
   "codemirror_mode": {
    "name": "ipython",
    "version": 3
   },
   "file_extension": ".py",
   "mimetype": "text/x-python",
   "name": "python",
   "nbconvert_exporter": "python",
   "pygments_lexer": "ipython3",
   "version": "3.6.9"
  },
  "toc": {
   "base_numbering": 1,
   "nav_menu": {},
   "number_sections": true,
   "sideBar": true,
   "skip_h1_title": false,
   "title_cell": "Table of Contents",
   "title_sidebar": "Contents",
   "toc_cell": false,
   "toc_position": {},
   "toc_section_display": true,
   "toc_window_display": true
  }
 },
 "nbformat": 4,
 "nbformat_minor": 2
}
